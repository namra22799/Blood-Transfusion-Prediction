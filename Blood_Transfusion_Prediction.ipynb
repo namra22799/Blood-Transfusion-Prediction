{
  "cells": [
    {
      "cell_type": "markdown",
      "metadata": {
        "id": "J5lWLmtFM_sM"
      },
      "source": [
        "## Assignment Team:\n",
        "#### 1) Tilak Pandya (200534318)\n",
        "#### 2) Kishan Patel (200527734)\n",
        "#### 3) Namra Patel (200535046)"
      ]
    },
    {
      "cell_type": "markdown",
      "metadata": {
        "id": "QentRyKwM_sP"
      },
      "source": [
        "## Problem Statement\n",
        " The medical industry has relied on a manual process for blood transfusions, but automating the blood transfusion supply chain is crucial to meet the urgent need for blood during critical conditions. This group project aims to predict the likelihood of individuals donating blood in future blood donation camps based on their blood donation history. By analyzing a readily available dataset, the team will train multiple machine learning models, optimize their parameters, evaluate the results and compare their accuracy to select the most effective one. The goal is to improve the efficiency of blood banks and health agencies in organizing blood donations."
      ]
    },
    {
      "cell_type": "markdown",
      "metadata": {
        "id": "tXElN1uKM_sR"
      },
      "source": [
        "# Python Code"
      ]
    },
    {
      "cell_type": "markdown",
      "metadata": {
        "id": "7YsMm61IM_sS"
      },
      "source": [
        "<p>The <code>transfusion.data</code> file is being inspected in this project. Blood transfusions are crucial in saving lives, but maintaining a sufficient blood supply can be a challenge for healthcare professionals. The data being used is collected from a mobile blood donation vehicle in Taiwan, which visits different universities for blood drives. The aim of the project is to predict whether a donor will give blood during the next visit of the vehicle.</p>\n",
        "<p>The data is structured according to the RFMTC marketing model and stored in the <code>transfusion.data</code> file. The first step is to examine the data.</p>"
      ]
    },
    {
      "cell_type": "code",
      "execution_count": 1,
      "metadata": {
        "colab": {
          "base_uri": "https://localhost:8080/",
          "height": 607
        },
        "id": "-CUvTEwgM_sU",
        "outputId": "f90b3ab4-e6a1-42ed-e847-6173c3f30b8e"
      },
      "outputs": [
        {
          "output_type": "execute_result",
          "data": {
            "text/plain": [
              "     Sr.no                    Name  Recency (months)  Frequency (times)  \\\n",
              "0        1  Oluwatobiloba Goulding                 2                 50   \n",
              "1        2        Gianluca Herring                 0                 13   \n",
              "2        3          Antonia Almond                 1                 16   \n",
              "3        4             Sally Sloan                 2                 20   \n",
              "4        5             Kelis Hirst                 1                 24   \n",
              "..     ...                     ...               ...                ...   \n",
              "744    745             Ioana Mccoy                21                  2   \n",
              "745    746             Amirah Vang                23                  3   \n",
              "746    747            Brent Almond                39                  1   \n",
              "747    748         Elena Mccormack                72                  1   \n",
              "748    749         Elena Mccormack                72                  1   \n",
              "\n",
              "     Monetary (c.c. blood)  Time (months)  Year  \\\n",
              "0                    12500             98  2007   \n",
              "1                     3250             28  2007   \n",
              "2                     4000             35  2007   \n",
              "3                     5000             45  2007   \n",
              "4                     6000             77  2007   \n",
              "..                     ...            ...   ...   \n",
              "744                    500             52  2007   \n",
              "745                    750             62  2007   \n",
              "746                    250             39  2007   \n",
              "747                    250             72  2007   \n",
              "748                    250             72  2007   \n",
              "\n",
              "     whether he/she donated blood in March 2007  Location      Location_Name  \n",
              "0                                             1         1  Kitchner Hospital  \n",
              "1                                             1         1  Kitchner Hospital  \n",
              "2                                             1         1  Kitchner Hospital  \n",
              "3                                             1         3  Victoria Hospital  \n",
              "4                                             0         2     Civik Hospital  \n",
              "..                                          ...       ...                ...  \n",
              "744                                           0         3  Victoria Hospital  \n",
              "745                                           0         1  Kitchner Hospital  \n",
              "746                                           0         1  Kitchner Hospital  \n",
              "747                                           0         1  Kitchner Hospital  \n",
              "748                                           0         1  Kitchner Hospital  \n",
              "\n",
              "[749 rows x 10 columns]"
            ],
            "text/html": [
              "\n",
              "  <div id=\"df-5e1359ac-8223-4e0f-85e1-603b9b626de6\">\n",
              "    <div class=\"colab-df-container\">\n",
              "      <div>\n",
              "<style scoped>\n",
              "    .dataframe tbody tr th:only-of-type {\n",
              "        vertical-align: middle;\n",
              "    }\n",
              "\n",
              "    .dataframe tbody tr th {\n",
              "        vertical-align: top;\n",
              "    }\n",
              "\n",
              "    .dataframe thead th {\n",
              "        text-align: right;\n",
              "    }\n",
              "</style>\n",
              "<table border=\"1\" class=\"dataframe\">\n",
              "  <thead>\n",
              "    <tr style=\"text-align: right;\">\n",
              "      <th></th>\n",
              "      <th>Sr.no</th>\n",
              "      <th>Name</th>\n",
              "      <th>Recency (months)</th>\n",
              "      <th>Frequency (times)</th>\n",
              "      <th>Monetary (c.c. blood)</th>\n",
              "      <th>Time (months)</th>\n",
              "      <th>Year</th>\n",
              "      <th>whether he/she donated blood in March 2007</th>\n",
              "      <th>Location</th>\n",
              "      <th>Location_Name</th>\n",
              "    </tr>\n",
              "  </thead>\n",
              "  <tbody>\n",
              "    <tr>\n",
              "      <th>0</th>\n",
              "      <td>1</td>\n",
              "      <td>Oluwatobiloba Goulding</td>\n",
              "      <td>2</td>\n",
              "      <td>50</td>\n",
              "      <td>12500</td>\n",
              "      <td>98</td>\n",
              "      <td>2007</td>\n",
              "      <td>1</td>\n",
              "      <td>1</td>\n",
              "      <td>Kitchner Hospital</td>\n",
              "    </tr>\n",
              "    <tr>\n",
              "      <th>1</th>\n",
              "      <td>2</td>\n",
              "      <td>Gianluca Herring</td>\n",
              "      <td>0</td>\n",
              "      <td>13</td>\n",
              "      <td>3250</td>\n",
              "      <td>28</td>\n",
              "      <td>2007</td>\n",
              "      <td>1</td>\n",
              "      <td>1</td>\n",
              "      <td>Kitchner Hospital</td>\n",
              "    </tr>\n",
              "    <tr>\n",
              "      <th>2</th>\n",
              "      <td>3</td>\n",
              "      <td>Antonia Almond</td>\n",
              "      <td>1</td>\n",
              "      <td>16</td>\n",
              "      <td>4000</td>\n",
              "      <td>35</td>\n",
              "      <td>2007</td>\n",
              "      <td>1</td>\n",
              "      <td>1</td>\n",
              "      <td>Kitchner Hospital</td>\n",
              "    </tr>\n",
              "    <tr>\n",
              "      <th>3</th>\n",
              "      <td>4</td>\n",
              "      <td>Sally Sloan</td>\n",
              "      <td>2</td>\n",
              "      <td>20</td>\n",
              "      <td>5000</td>\n",
              "      <td>45</td>\n",
              "      <td>2007</td>\n",
              "      <td>1</td>\n",
              "      <td>3</td>\n",
              "      <td>Victoria Hospital</td>\n",
              "    </tr>\n",
              "    <tr>\n",
              "      <th>4</th>\n",
              "      <td>5</td>\n",
              "      <td>Kelis Hirst</td>\n",
              "      <td>1</td>\n",
              "      <td>24</td>\n",
              "      <td>6000</td>\n",
              "      <td>77</td>\n",
              "      <td>2007</td>\n",
              "      <td>0</td>\n",
              "      <td>2</td>\n",
              "      <td>Civik Hospital</td>\n",
              "    </tr>\n",
              "    <tr>\n",
              "      <th>...</th>\n",
              "      <td>...</td>\n",
              "      <td>...</td>\n",
              "      <td>...</td>\n",
              "      <td>...</td>\n",
              "      <td>...</td>\n",
              "      <td>...</td>\n",
              "      <td>...</td>\n",
              "      <td>...</td>\n",
              "      <td>...</td>\n",
              "      <td>...</td>\n",
              "    </tr>\n",
              "    <tr>\n",
              "      <th>744</th>\n",
              "      <td>745</td>\n",
              "      <td>Ioana Mccoy</td>\n",
              "      <td>21</td>\n",
              "      <td>2</td>\n",
              "      <td>500</td>\n",
              "      <td>52</td>\n",
              "      <td>2007</td>\n",
              "      <td>0</td>\n",
              "      <td>3</td>\n",
              "      <td>Victoria Hospital</td>\n",
              "    </tr>\n",
              "    <tr>\n",
              "      <th>745</th>\n",
              "      <td>746</td>\n",
              "      <td>Amirah Vang</td>\n",
              "      <td>23</td>\n",
              "      <td>3</td>\n",
              "      <td>750</td>\n",
              "      <td>62</td>\n",
              "      <td>2007</td>\n",
              "      <td>0</td>\n",
              "      <td>1</td>\n",
              "      <td>Kitchner Hospital</td>\n",
              "    </tr>\n",
              "    <tr>\n",
              "      <th>746</th>\n",
              "      <td>747</td>\n",
              "      <td>Brent Almond</td>\n",
              "      <td>39</td>\n",
              "      <td>1</td>\n",
              "      <td>250</td>\n",
              "      <td>39</td>\n",
              "      <td>2007</td>\n",
              "      <td>0</td>\n",
              "      <td>1</td>\n",
              "      <td>Kitchner Hospital</td>\n",
              "    </tr>\n",
              "    <tr>\n",
              "      <th>747</th>\n",
              "      <td>748</td>\n",
              "      <td>Elena Mccormack</td>\n",
              "      <td>72</td>\n",
              "      <td>1</td>\n",
              "      <td>250</td>\n",
              "      <td>72</td>\n",
              "      <td>2007</td>\n",
              "      <td>0</td>\n",
              "      <td>1</td>\n",
              "      <td>Kitchner Hospital</td>\n",
              "    </tr>\n",
              "    <tr>\n",
              "      <th>748</th>\n",
              "      <td>749</td>\n",
              "      <td>Elena Mccormack</td>\n",
              "      <td>72</td>\n",
              "      <td>1</td>\n",
              "      <td>250</td>\n",
              "      <td>72</td>\n",
              "      <td>2007</td>\n",
              "      <td>0</td>\n",
              "      <td>1</td>\n",
              "      <td>Kitchner Hospital</td>\n",
              "    </tr>\n",
              "  </tbody>\n",
              "</table>\n",
              "<p>749 rows × 10 columns</p>\n",
              "</div>\n",
              "      <button class=\"colab-df-convert\" onclick=\"convertToInteractive('df-5e1359ac-8223-4e0f-85e1-603b9b626de6')\"\n",
              "              title=\"Convert this dataframe to an interactive table.\"\n",
              "              style=\"display:none;\">\n",
              "        \n",
              "  <svg xmlns=\"http://www.w3.org/2000/svg\" height=\"24px\"viewBox=\"0 0 24 24\"\n",
              "       width=\"24px\">\n",
              "    <path d=\"M0 0h24v24H0V0z\" fill=\"none\"/>\n",
              "    <path d=\"M18.56 5.44l.94 2.06.94-2.06 2.06-.94-2.06-.94-.94-2.06-.94 2.06-2.06.94zm-11 1L8.5 8.5l.94-2.06 2.06-.94-2.06-.94L8.5 2.5l-.94 2.06-2.06.94zm10 10l.94 2.06.94-2.06 2.06-.94-2.06-.94-.94-2.06-.94 2.06-2.06.94z\"/><path d=\"M17.41 7.96l-1.37-1.37c-.4-.4-.92-.59-1.43-.59-.52 0-1.04.2-1.43.59L10.3 9.45l-7.72 7.72c-.78.78-.78 2.05 0 2.83L4 21.41c.39.39.9.59 1.41.59.51 0 1.02-.2 1.41-.59l7.78-7.78 2.81-2.81c.8-.78.8-2.07 0-2.86zM5.41 20L4 18.59l7.72-7.72 1.47 1.35L5.41 20z\"/>\n",
              "  </svg>\n",
              "      </button>\n",
              "      \n",
              "  <style>\n",
              "    .colab-df-container {\n",
              "      display:flex;\n",
              "      flex-wrap:wrap;\n",
              "      gap: 12px;\n",
              "    }\n",
              "\n",
              "    .colab-df-convert {\n",
              "      background-color: #E8F0FE;\n",
              "      border: none;\n",
              "      border-radius: 50%;\n",
              "      cursor: pointer;\n",
              "      display: none;\n",
              "      fill: #1967D2;\n",
              "      height: 32px;\n",
              "      padding: 0 0 0 0;\n",
              "      width: 32px;\n",
              "    }\n",
              "\n",
              "    .colab-df-convert:hover {\n",
              "      background-color: #E2EBFA;\n",
              "      box-shadow: 0px 1px 2px rgba(60, 64, 67, 0.3), 0px 1px 3px 1px rgba(60, 64, 67, 0.15);\n",
              "      fill: #174EA6;\n",
              "    }\n",
              "\n",
              "    [theme=dark] .colab-df-convert {\n",
              "      background-color: #3B4455;\n",
              "      fill: #D2E3FC;\n",
              "    }\n",
              "\n",
              "    [theme=dark] .colab-df-convert:hover {\n",
              "      background-color: #434B5C;\n",
              "      box-shadow: 0px 1px 3px 1px rgba(0, 0, 0, 0.15);\n",
              "      filter: drop-shadow(0px 1px 2px rgba(0, 0, 0, 0.3));\n",
              "      fill: #FFFFFF;\n",
              "    }\n",
              "  </style>\n",
              "\n",
              "      <script>\n",
              "        const buttonEl =\n",
              "          document.querySelector('#df-5e1359ac-8223-4e0f-85e1-603b9b626de6 button.colab-df-convert');\n",
              "        buttonEl.style.display =\n",
              "          google.colab.kernel.accessAllowed ? 'block' : 'none';\n",
              "\n",
              "        async function convertToInteractive(key) {\n",
              "          const element = document.querySelector('#df-5e1359ac-8223-4e0f-85e1-603b9b626de6');\n",
              "          const dataTable =\n",
              "            await google.colab.kernel.invokeFunction('convertToInteractive',\n",
              "                                                     [key], {});\n",
              "          if (!dataTable) return;\n",
              "\n",
              "          const docLinkHtml = 'Like what you see? Visit the ' +\n",
              "            '<a target=\"_blank\" href=https://colab.research.google.com/notebooks/data_table.ipynb>data table notebook</a>'\n",
              "            + ' to learn more about interactive tables.';\n",
              "          element.innerHTML = '';\n",
              "          dataTable['output_type'] = 'display_data';\n",
              "          await google.colab.output.renderOutput(dataTable, element);\n",
              "          const docLink = document.createElement('div');\n",
              "          docLink.innerHTML = docLinkHtml;\n",
              "          element.appendChild(docLink);\n",
              "        }\n",
              "      </script>\n",
              "    </div>\n",
              "  </div>\n",
              "  "
            ]
          },
          "metadata": {},
          "execution_count": 1
        }
      ],
      "source": [
        "import pandas as pd\n",
        "import matplotlib.pyplot as plt\n",
        "import seaborn as sns\n",
        "\n",
        "import warnings\n",
        "warnings.filterwarnings('ignore', category=FutureWarning)\n",
        "warnings.filterwarnings('ignore', category=DeprecationWarning)\n",
        "%matplotlib inline\n",
        "df = pd.read_csv(\"transfusion_data_with_name.csv\")\n",
        "df"
      ]
    },
    {
      "cell_type": "markdown",
      "source": [
        "This code will rename the column 'whether he/she donated blood in March 2007' to 'donated' in place. The inplace argument is set to True, so the change will be made directly to the DataFrame df."
      ],
      "metadata": {
        "id": "Oq-2FXDYODV6"
      }
    },
    {
      "cell_type": "code",
      "execution_count": 2,
      "metadata": {
        "id": "o4ObuvLCM_sW"
      },
      "outputs": [],
      "source": [
        "df.rename(\n",
        "    columns = {'whether he/she donated blood in March 2007': 'donated'},\n",
        "    inplace = True\n",
        ")"
      ]
    },
    {
      "cell_type": "markdown",
      "source": [
        "This code will drop the columns \"Sr.no\", \"Name\", \"Location_Name\", and \"Year\" from the DataFrame df. The axis argument is set to 1 to specify that the columns should be dropped, rather than the rows."
      ],
      "metadata": {
        "id": "qA3RPJD5OPqm"
      }
    },
    {
      "cell_type": "code",
      "execution_count": 3,
      "metadata": {
        "id": "bUCxAWODM_sW"
      },
      "outputs": [],
      "source": [
        "df = df.drop([\"Sr.no\",\"Name\",\"Location_Name\", \"Year\"], axis = 1)"
      ]
    },
    {
      "cell_type": "code",
      "execution_count": 4,
      "metadata": {
        "colab": {
          "base_uri": "https://localhost:8080/"
        },
        "id": "78T8OAjSM_sW",
        "outputId": "491b29c8-92a7-493b-eb1e-62f40938e336"
      },
      "outputs": [
        {
          "output_type": "execute_result",
          "data": {
            "text/plain": [
              "donated\n",
              "0    571\n",
              "1    178\n",
              "dtype: int64"
            ]
          },
          "metadata": {},
          "execution_count": 4
        }
      ],
      "source": [
        "df.value_counts(\"donated\")"
      ]
    },
    {
      "cell_type": "code",
      "execution_count": 5,
      "metadata": {
        "colab": {
          "base_uri": "https://localhost:8080/"
        },
        "id": "GxNnWkDaM_sX",
        "outputId": "7c5c42f0-548d-4464-caf3-a9376e3e9d22"
      },
      "outputs": [
        {
          "output_type": "execute_result",
          "data": {
            "text/plain": [
              "Location\n",
              "3    262\n",
              "2    259\n",
              "1    228\n",
              "dtype: int64"
            ]
          },
          "metadata": {},
          "execution_count": 5
        }
      ],
      "source": [
        "df.value_counts(\"Location\")"
      ]
    },
    {
      "cell_type": "code",
      "execution_count": 6,
      "metadata": {
        "colab": {
          "base_uri": "https://localhost:8080/"
        },
        "id": "IHOQwvMoM_sX",
        "outputId": "6c6dab5b-6619-4c30-aa4d-015cc77e38b6"
      },
      "outputs": [
        {
          "output_type": "stream",
          "name": "stdout",
          "text": [
            "<class 'pandas.core.frame.DataFrame'>\n",
            "RangeIndex: 749 entries, 0 to 748\n",
            "Data columns (total 6 columns):\n",
            " #   Column                 Non-Null Count  Dtype\n",
            "---  ------                 --------------  -----\n",
            " 0   Recency (months)       749 non-null    int64\n",
            " 1   Frequency (times)      749 non-null    int64\n",
            " 2   Monetary (c.c. blood)  749 non-null    int64\n",
            " 3   Time (months)          749 non-null    int64\n",
            " 4   donated                749 non-null    int64\n",
            " 5   Location               749 non-null    int64\n",
            "dtypes: int64(6)\n",
            "memory usage: 35.2 KB\n"
          ]
        }
      ],
      "source": [
        "df.info()"
      ]
    },
    {
      "cell_type": "code",
      "execution_count": 7,
      "metadata": {
        "colab": {
          "base_uri": "https://localhost:8080/",
          "height": 300
        },
        "id": "M2I8xll0M_sY",
        "outputId": "bf8fa065-ec90-4f43-ea24-74970bb4a070"
      },
      "outputs": [
        {
          "output_type": "execute_result",
          "data": {
            "text/plain": [
              "       Recency (months)  Frequency (times)  Monetary (c.c. blood)  \\\n",
              "count        749.000000         749.000000             749.000000   \n",
              "mean           9.590120           5.508678            1377.169559   \n",
              "std            8.406069           5.837734            1459.433448   \n",
              "min            0.000000           1.000000             250.000000   \n",
              "25%            3.000000           2.000000             500.000000   \n",
              "50%            7.000000           4.000000            1000.000000   \n",
              "75%           14.000000           7.000000            1750.000000   \n",
              "max           74.000000          50.000000           12500.000000   \n",
              "\n",
              "       Time (months)     donated    Location  \n",
              "count     749.000000  749.000000  749.000000  \n",
              "mean       34.332443    0.237650    2.045394  \n",
              "std        24.399368    0.425928    0.808095  \n",
              "min         2.000000    0.000000    1.000000  \n",
              "25%        16.000000    0.000000    1.000000  \n",
              "50%        28.000000    0.000000    2.000000  \n",
              "75%        50.000000    0.000000    3.000000  \n",
              "max        98.000000    1.000000    3.000000  "
            ],
            "text/html": [
              "\n",
              "  <div id=\"df-a2ac1338-6dea-4bd0-bc78-29e2be6bf3d3\">\n",
              "    <div class=\"colab-df-container\">\n",
              "      <div>\n",
              "<style scoped>\n",
              "    .dataframe tbody tr th:only-of-type {\n",
              "        vertical-align: middle;\n",
              "    }\n",
              "\n",
              "    .dataframe tbody tr th {\n",
              "        vertical-align: top;\n",
              "    }\n",
              "\n",
              "    .dataframe thead th {\n",
              "        text-align: right;\n",
              "    }\n",
              "</style>\n",
              "<table border=\"1\" class=\"dataframe\">\n",
              "  <thead>\n",
              "    <tr style=\"text-align: right;\">\n",
              "      <th></th>\n",
              "      <th>Recency (months)</th>\n",
              "      <th>Frequency (times)</th>\n",
              "      <th>Monetary (c.c. blood)</th>\n",
              "      <th>Time (months)</th>\n",
              "      <th>donated</th>\n",
              "      <th>Location</th>\n",
              "    </tr>\n",
              "  </thead>\n",
              "  <tbody>\n",
              "    <tr>\n",
              "      <th>count</th>\n",
              "      <td>749.000000</td>\n",
              "      <td>749.000000</td>\n",
              "      <td>749.000000</td>\n",
              "      <td>749.000000</td>\n",
              "      <td>749.000000</td>\n",
              "      <td>749.000000</td>\n",
              "    </tr>\n",
              "    <tr>\n",
              "      <th>mean</th>\n",
              "      <td>9.590120</td>\n",
              "      <td>5.508678</td>\n",
              "      <td>1377.169559</td>\n",
              "      <td>34.332443</td>\n",
              "      <td>0.237650</td>\n",
              "      <td>2.045394</td>\n",
              "    </tr>\n",
              "    <tr>\n",
              "      <th>std</th>\n",
              "      <td>8.406069</td>\n",
              "      <td>5.837734</td>\n",
              "      <td>1459.433448</td>\n",
              "      <td>24.399368</td>\n",
              "      <td>0.425928</td>\n",
              "      <td>0.808095</td>\n",
              "    </tr>\n",
              "    <tr>\n",
              "      <th>min</th>\n",
              "      <td>0.000000</td>\n",
              "      <td>1.000000</td>\n",
              "      <td>250.000000</td>\n",
              "      <td>2.000000</td>\n",
              "      <td>0.000000</td>\n",
              "      <td>1.000000</td>\n",
              "    </tr>\n",
              "    <tr>\n",
              "      <th>25%</th>\n",
              "      <td>3.000000</td>\n",
              "      <td>2.000000</td>\n",
              "      <td>500.000000</td>\n",
              "      <td>16.000000</td>\n",
              "      <td>0.000000</td>\n",
              "      <td>1.000000</td>\n",
              "    </tr>\n",
              "    <tr>\n",
              "      <th>50%</th>\n",
              "      <td>7.000000</td>\n",
              "      <td>4.000000</td>\n",
              "      <td>1000.000000</td>\n",
              "      <td>28.000000</td>\n",
              "      <td>0.000000</td>\n",
              "      <td>2.000000</td>\n",
              "    </tr>\n",
              "    <tr>\n",
              "      <th>75%</th>\n",
              "      <td>14.000000</td>\n",
              "      <td>7.000000</td>\n",
              "      <td>1750.000000</td>\n",
              "      <td>50.000000</td>\n",
              "      <td>0.000000</td>\n",
              "      <td>3.000000</td>\n",
              "    </tr>\n",
              "    <tr>\n",
              "      <th>max</th>\n",
              "      <td>74.000000</td>\n",
              "      <td>50.000000</td>\n",
              "      <td>12500.000000</td>\n",
              "      <td>98.000000</td>\n",
              "      <td>1.000000</td>\n",
              "      <td>3.000000</td>\n",
              "    </tr>\n",
              "  </tbody>\n",
              "</table>\n",
              "</div>\n",
              "      <button class=\"colab-df-convert\" onclick=\"convertToInteractive('df-a2ac1338-6dea-4bd0-bc78-29e2be6bf3d3')\"\n",
              "              title=\"Convert this dataframe to an interactive table.\"\n",
              "              style=\"display:none;\">\n",
              "        \n",
              "  <svg xmlns=\"http://www.w3.org/2000/svg\" height=\"24px\"viewBox=\"0 0 24 24\"\n",
              "       width=\"24px\">\n",
              "    <path d=\"M0 0h24v24H0V0z\" fill=\"none\"/>\n",
              "    <path d=\"M18.56 5.44l.94 2.06.94-2.06 2.06-.94-2.06-.94-.94-2.06-.94 2.06-2.06.94zm-11 1L8.5 8.5l.94-2.06 2.06-.94-2.06-.94L8.5 2.5l-.94 2.06-2.06.94zm10 10l.94 2.06.94-2.06 2.06-.94-2.06-.94-.94-2.06-.94 2.06-2.06.94z\"/><path d=\"M17.41 7.96l-1.37-1.37c-.4-.4-.92-.59-1.43-.59-.52 0-1.04.2-1.43.59L10.3 9.45l-7.72 7.72c-.78.78-.78 2.05 0 2.83L4 21.41c.39.39.9.59 1.41.59.51 0 1.02-.2 1.41-.59l7.78-7.78 2.81-2.81c.8-.78.8-2.07 0-2.86zM5.41 20L4 18.59l7.72-7.72 1.47 1.35L5.41 20z\"/>\n",
              "  </svg>\n",
              "      </button>\n",
              "      \n",
              "  <style>\n",
              "    .colab-df-container {\n",
              "      display:flex;\n",
              "      flex-wrap:wrap;\n",
              "      gap: 12px;\n",
              "    }\n",
              "\n",
              "    .colab-df-convert {\n",
              "      background-color: #E8F0FE;\n",
              "      border: none;\n",
              "      border-radius: 50%;\n",
              "      cursor: pointer;\n",
              "      display: none;\n",
              "      fill: #1967D2;\n",
              "      height: 32px;\n",
              "      padding: 0 0 0 0;\n",
              "      width: 32px;\n",
              "    }\n",
              "\n",
              "    .colab-df-convert:hover {\n",
              "      background-color: #E2EBFA;\n",
              "      box-shadow: 0px 1px 2px rgba(60, 64, 67, 0.3), 0px 1px 3px 1px rgba(60, 64, 67, 0.15);\n",
              "      fill: #174EA6;\n",
              "    }\n",
              "\n",
              "    [theme=dark] .colab-df-convert {\n",
              "      background-color: #3B4455;\n",
              "      fill: #D2E3FC;\n",
              "    }\n",
              "\n",
              "    [theme=dark] .colab-df-convert:hover {\n",
              "      background-color: #434B5C;\n",
              "      box-shadow: 0px 1px 3px 1px rgba(0, 0, 0, 0.15);\n",
              "      filter: drop-shadow(0px 1px 2px rgba(0, 0, 0, 0.3));\n",
              "      fill: #FFFFFF;\n",
              "    }\n",
              "  </style>\n",
              "\n",
              "      <script>\n",
              "        const buttonEl =\n",
              "          document.querySelector('#df-a2ac1338-6dea-4bd0-bc78-29e2be6bf3d3 button.colab-df-convert');\n",
              "        buttonEl.style.display =\n",
              "          google.colab.kernel.accessAllowed ? 'block' : 'none';\n",
              "\n",
              "        async function convertToInteractive(key) {\n",
              "          const element = document.querySelector('#df-a2ac1338-6dea-4bd0-bc78-29e2be6bf3d3');\n",
              "          const dataTable =\n",
              "            await google.colab.kernel.invokeFunction('convertToInteractive',\n",
              "                                                     [key], {});\n",
              "          if (!dataTable) return;\n",
              "\n",
              "          const docLinkHtml = 'Like what you see? Visit the ' +\n",
              "            '<a target=\"_blank\" href=https://colab.research.google.com/notebooks/data_table.ipynb>data table notebook</a>'\n",
              "            + ' to learn more about interactive tables.';\n",
              "          element.innerHTML = '';\n",
              "          dataTable['output_type'] = 'display_data';\n",
              "          await google.colab.output.renderOutput(dataTable, element);\n",
              "          const docLink = document.createElement('div');\n",
              "          docLink.innerHTML = docLinkHtml;\n",
              "          element.appendChild(docLink);\n",
              "        }\n",
              "      </script>\n",
              "    </div>\n",
              "  </div>\n",
              "  "
            ]
          },
          "metadata": {},
          "execution_count": 7
        }
      ],
      "source": [
        "df.describe()"
      ]
    },
    {
      "cell_type": "code",
      "execution_count": 8,
      "metadata": {
        "id": "d8mxRCLSM_sY"
      },
      "outputs": [],
      "source": [
        "features = df.drop(['donated'], axis = 1)\n",
        "label = df['donated']"
      ]
    },
    {
      "cell_type": "markdown",
      "source": [
        "This distribution plots are used to visualize the distribution of a set of data. It helps in understanding the spread and skewness of the data and can be used to identify any outliers or skewness in the data. This distribution plot typically shows the histogram and density plot of the data, which provides a visual representation of the frequency and probability density of the data."
      ],
      "metadata": {
        "id": "xR8Sf52vP7Dg"
      }
    },
    {
      "cell_type": "code",
      "execution_count": 9,
      "metadata": {
        "colab": {
          "base_uri": "https://localhost:8080/",
          "height": 654
        },
        "id": "GafuTjONM_sZ",
        "outputId": "08e838d6-9e95-4b7c-8c23-af6c63685e3a"
      },
      "outputs": [
        {
          "output_type": "display_data",
          "data": {
            "text/plain": [
              "<Figure size 1440x1440 with 5 Axes>"
            ],
            "image/png": "[encoded data removed]"
          },
          "metadata": {
            "needs_background": "light"
          }
        }
      ],
      "source": [
        "#Distribution plot\n",
        "\n",
        "plt.figure(figsize=(20,20))\n",
        "col = features.columns\n",
        "cnt = 1\n",
        "\n",
        "for i in col:\n",
        "    plt.subplot(4,3,cnt)\n",
        "    sns.distplot(features[i], hist_kws=dict(edgecolor='k', linewidth=1, color='black'), color='red')\n",
        "    cnt+=1\n",
        "plt.tight_layout()\n",
        "plt.show()"
      ]
    },
    {
      "cell_type": "markdown",
      "source": [
        "This Box plots provide a quick visual representation of the distribution of the data and can be used to identify any skewness, outliers, and variability in the data. They are particularly useful when comparing the distribution of multiple datasets, as they provide a clear visual representation of the differences between the datasets."
      ],
      "metadata": {
        "id": "IeSYtbIIQSp3"
      }
    },
    {
      "cell_type": "code",
      "execution_count": 10,
      "metadata": {
        "colab": {
          "base_uri": "https://localhost:8080/",
          "height": 865
        },
        "id": "NpY5MjDMM_sZ",
        "outputId": "9e89c3c2-9fd0-4c60-fa6d-21ee7184f28a"
      },
      "outputs": [
        {
          "output_type": "display_data",
          "data": {
            "text/plain": [
              "<Figure size 2160x5760 with 6 Axes>"
            ],
            "image/png": "[encoded data removed]"
          },
          "metadata": {
            "needs_background": "light"
          }
        }
      ],
      "source": [
        "i=1\n",
        "plt.figure(figsize=(30,80))\n",
        "for col in df.columns:\n",
        "    plt.subplot(11,2,i)\n",
        "    sns.boxplot( df[\"donated\"], df[col])\n",
        "    plt.ylabel(col,fontsize=25)\n",
        "    plt.xlabel(\"donated\",fontsize=25)\n",
        "    i=i+1\n",
        "plt.show()"
      ]
    },
    {
      "cell_type": "markdown",
      "source": [
        "In this heatmap, each cell is colored according to the value of a particular variable, with darker colors indicating higher values and lighter colors indicating lower values. This allows the relationships between the variables to be easily seen and compared. this heatmaps can be used to visualize the correlation between variables, which is useful in identifying variables that are related to each other."
      ],
      "metadata": {
        "id": "s4mD9ILSQ2Wp"
      }
    },
    {
      "cell_type": "code",
      "execution_count": 11,
      "metadata": {
        "colab": {
          "base_uri": "https://localhost:8080/",
          "height": 867
        },
        "id": "qG8__4sAM_sa",
        "outputId": "2fa2ee52-ee57-4c6b-b75f-25ccb200e650"
      },
      "outputs": [
        {
          "output_type": "display_data",
          "data": {
            "text/plain": [
              "<Figure size 1080x1080 with 2 Axes>"
            ],
            "image/png": "[encoded data removed]"
          },
          "metadata": {
            "needs_background": "light"
          }
        }
      ],
      "source": [
        "plt.figure(figsize=(15, 15))\n",
        "sns.heatmap(df.corr(), annot=True,\n",
        "           cmap='YlGnBu');"
      ]
    },
    {
      "cell_type": "markdown",
      "source": [
        "The code below is splitting the features and label datasets into training and testing sets using the train_test_split function from the scikit-learn library. The function splits the data into two parts, with 80% of the data being used for training and 20% being used for testing. The training data will be used to train the machine learning model, while the testing data will be used to evaluate the performance of the model."
      ],
      "metadata": {
        "id": "E46dWd77RWih"
      }
    },
    {
      "cell_type": "code",
      "execution_count": 12,
      "metadata": {
        "id": "3kcJGAKDM_sa"
      },
      "outputs": [],
      "source": [
        "from sklearn.model_selection import train_test_split\n",
        "x_train, x_test, y_train, y_test = train_test_split(features, label, train_size=0.8)"
      ]
    },
    {
      "cell_type": "markdown",
      "source": [
        "This code defines a function called print_results that takes in an argument results, which is an object containing the results of a grid search or cross-validation operation."
      ],
      "metadata": {
        "id": "0ynwU-XPRrVV"
      }
    },
    {
      "cell_type": "code",
      "execution_count": 13,
      "metadata": {
        "id": "BLhrk9plM_sb"
      },
      "outputs": [],
      "source": [
        "def print_results(results):\n",
        "    print('BEST PARAMS: {}\\n'.format(results.best_params_))\n",
        "\n",
        "    means = results.cv_results_['mean_test_score']\n",
        "    stds = results.cv_results_['std_test_score']\n",
        "    for mean, std, params in zip(means, stds, results.cv_results_['params']):\n",
        "        print('{} (+/-{}) for {}'.format(round(mean, 3), round(std * 2, 3), params))"
      ]
    },
    {
      "cell_type": "markdown",
      "metadata": {
        "id": "UcTMHwnQM_sb"
      },
      "source": [
        "# Logistic Regression"
      ]
    },
    {
      "cell_type": "markdown",
      "source": [
        "This code performs a grid search for the best hyperparameters for a logistic regression model in scikit-learn. It imports the LogisticRegression and GridSearchCV classes, creates a logistic regression model instance, sets up a grid search with 8-fold cross-validation and a range of values for the regularization strength parameter, and fits the model to the training data. The best parameters are then printed."
      ],
      "metadata": {
        "id": "24u218NgSKJ5"
      }
    },
    {
      "cell_type": "code",
      "execution_count": 14,
      "metadata": {
        "colab": {
          "base_uri": "https://localhost:8080/"
        },
        "id": "MRUTKS6RM_sc",
        "outputId": "91eae2b4-a03d-4a08-8c2b-c936c64af310"
      },
      "outputs": [
        {
          "output_type": "stream",
          "name": "stdout",
          "text": [
            "{'C': 0.1}\n"
          ]
        }
      ],
      "source": [
        "from sklearn.linear_model import LogisticRegression\n",
        "from sklearn.model_selection import GridSearchCV\n",
        "lr = LogisticRegression()\n",
        "parameters = {\n",
        "    'C': [0.001, 0.01, 0.1, 1, 10, 100, 1000]\n",
        "}\n",
        "cv = GridSearchCV(lr, parameters, cv= 8)\n",
        "cv.fit(x_train, y_train)\n",
        "\n",
        "print(cv.best_params_)"
      ]
    },
    {
      "cell_type": "markdown",
      "source": [
        "The mean_test_score returns an array of the mean test scores (i.e., accuracy) of the model for each set of hyperparameters in the grid search. "
      ],
      "metadata": {
        "id": "Hqea-8KiSL1P"
      }
    },
    {
      "cell_type": "code",
      "execution_count": 15,
      "metadata": {
        "colab": {
          "base_uri": "https://localhost:8080/"
        },
        "id": "tRipjR8PM_sc",
        "outputId": "c6c0a42b-d550-4771-ec68-85d7975fd6db"
      },
      "outputs": [
        {
          "output_type": "execute_result",
          "data": {
            "text/plain": [
              "array([0.76123874, 0.76123874, 0.76457207, 0.76457207, 0.76457207,\n",
              "       0.76457207, 0.76457207])"
            ]
          },
          "metadata": {},
          "execution_count": 15
        }
      ],
      "source": [
        "cv.cv_results_['mean_test_score']"
      ]
    },
    {
      "cell_type": "markdown",
      "source": [
        "The std_test_score returns an array of the standard deviations of the test scores (i.e., accuracy) of the model for each set of hyperparameters in the grid search. "
      ],
      "metadata": {
        "id": "mofhoLl8SYdX"
      }
    },
    {
      "cell_type": "code",
      "execution_count": 16,
      "metadata": {
        "colab": {
          "base_uri": "https://localhost:8080/"
        },
        "id": "Gs81-MQMM_sd",
        "outputId": "fe9c74f5-a7f2-4b52-ff51-789e6b9aa316"
      },
      "outputs": [
        {
          "output_type": "execute_result",
          "data": {
            "text/plain": [
              "array([0.02186341, 0.0208222 , 0.02339932, 0.02339932, 0.02339932,\n",
              "       0.02339932, 0.02339932])"
            ]
          },
          "metadata": {},
          "execution_count": 16
        }
      ],
      "source": [
        "cv.cv_results_['std_test_score']"
      ]
    },
    {
      "cell_type": "markdown",
      "source": [
        "The cv.best_estimator_ returns the best estimator from the grid search. The estimator is the logistic regression model instance with the hyperparameters that resulted in the highest mean test score (i.e., accuracy). This estimator can be used for making predictions on new data."
      ],
      "metadata": {
        "id": "BMqmlmFeSxZw"
      }
    },
    {
      "cell_type": "code",
      "execution_count": 17,
      "metadata": {
        "colab": {
          "base_uri": "https://localhost:8080/"
        },
        "id": "2HO05NIhM_sd",
        "outputId": "a96fee14-4634-47b5-80dc-75dfc22b29c8"
      },
      "outputs": [
        {
          "output_type": "execute_result",
          "data": {
            "text/plain": [
              "LogisticRegression(C=0.1)"
            ]
          },
          "metadata": {},
          "execution_count": 17
        }
      ],
      "source": [
        "cv.best_estimator_"
      ]
    },
    {
      "cell_type": "markdown",
      "source": [
        "Now calculate the Area Under the ROC Curve (AUC) for binary classification problems."
      ],
      "metadata": {
        "id": "qG92m9ZVSzor"
      }
    },
    {
      "cell_type": "code",
      "execution_count": 18,
      "metadata": {
        "colab": {
          "base_uri": "https://localhost:8080/"
        },
        "id": "DQKjBa-BM_sd",
        "outputId": "59f6356e-f480-42f3-a110-c1283b65e4df"
      },
      "outputs": [
        {
          "output_type": "execute_result",
          "data": {
            "text/plain": [
              "0.7642236024844721"
            ]
          },
          "metadata": {},
          "execution_count": 18
        }
      ],
      "source": [
        "from sklearn.metrics import roc_auc_score\n",
        "AUC_Score = roc_auc_score(y_test, cv.predict_proba(x_test)[:,1])\n",
        "AUC_Score"
      ]
    },
    {
      "cell_type": "markdown",
      "metadata": {
        "id": "LINv_uHmM_se"
      },
      "source": [
        "# Random Forest Classifier"
      ]
    },
    {
      "cell_type": "markdown",
      "source": [
        "This code block is defining and fitting a Random Forest Classifier model using GridSearchCV for hyperparameter tuning."
      ],
      "metadata": {
        "id": "J0D4WW2WTfC-"
      }
    },
    {
      "cell_type": "code",
      "execution_count": 19,
      "metadata": {
        "colab": {
          "base_uri": "https://localhost:8080/"
        },
        "id": "HinuhiZxM_se",
        "outputId": "9661b745-6351-4ac2-e109-4e2bc2eb9f87"
      },
      "outputs": [
        {
          "output_type": "execute_result",
          "data": {
            "text/plain": [
              "GridSearchCV(cv=6, estimator=RandomForestClassifier(),\n",
              "             param_grid={'max_depth': [2, 4, 8, 16, 32, None],\n",
              "                         'n_estimators': [5, 50, 250]})"
            ]
          },
          "metadata": {},
          "execution_count": 19
        }
      ],
      "source": [
        "from sklearn.ensemble import RandomForestClassifier\n",
        "\n",
        "rf = RandomForestClassifier()\n",
        "parameters = {\n",
        "    'n_estimators' : [5, 50, 250],\n",
        "    'max_depth' : [2, 4, 8, 16, 32, None]\n",
        "}\n",
        "\n",
        "CV5 = GridSearchCV(rf, parameters, cv = 6)\n",
        "CV5.fit(x_train, y_train)\n"
      ]
    },
    {
      "cell_type": "markdown",
      "source": [
        "The purpose of this function is to print the best hyperparameters obtained through the GridSearchCV and the mean and standard deviation of the test scores for each hyperparameter combination."
      ],
      "metadata": {
        "id": "SwY14p4WTnpv"
      }
    },
    {
      "cell_type": "code",
      "execution_count": 20,
      "metadata": {
        "colab": {
          "base_uri": "https://localhost:8080/"
        },
        "id": "azJqp2fZM_se",
        "outputId": "eb8750ef-4cfe-4a6b-e8de-929ab081f33a"
      },
      "outputs": [
        {
          "output_type": "stream",
          "name": "stdout",
          "text": [
            "BEST PARAMS: {'max_depth': 4, 'n_estimators': 250}\n",
            "\n",
            "0.755 (+/-0.018) for {'max_depth': 2, 'n_estimators': 5}\n",
            "0.761 (+/-0.013) for {'max_depth': 2, 'n_estimators': 50}\n",
            "0.761 (+/-0.013) for {'max_depth': 2, 'n_estimators': 250}\n",
            "0.773 (+/-0.051) for {'max_depth': 4, 'n_estimators': 5}\n",
            "0.776 (+/-0.063) for {'max_depth': 4, 'n_estimators': 50}\n",
            "0.79 (+/-0.057) for {'max_depth': 4, 'n_estimators': 250}\n",
            "0.73 (+/-0.054) for {'max_depth': 8, 'n_estimators': 5}\n",
            "0.763 (+/-0.074) for {'max_depth': 8, 'n_estimators': 50}\n",
            "0.766 (+/-0.073) for {'max_depth': 8, 'n_estimators': 250}\n",
            "0.725 (+/-0.047) for {'max_depth': 16, 'n_estimators': 5}\n",
            "0.745 (+/-0.071) for {'max_depth': 16, 'n_estimators': 50}\n",
            "0.745 (+/-0.054) for {'max_depth': 16, 'n_estimators': 250}\n",
            "0.738 (+/-0.061) for {'max_depth': 32, 'n_estimators': 5}\n",
            "0.721 (+/-0.066) for {'max_depth': 32, 'n_estimators': 50}\n",
            "0.738 (+/-0.057) for {'max_depth': 32, 'n_estimators': 250}\n",
            "0.723 (+/-0.055) for {'max_depth': None, 'n_estimators': 5}\n",
            "0.736 (+/-0.061) for {'max_depth': None, 'n_estimators': 50}\n",
            "0.741 (+/-0.07) for {'max_depth': None, 'n_estimators': 250}\n"
          ]
        }
      ],
      "source": [
        "print_results(CV5)"
      ]
    },
    {
      "cell_type": "markdown",
      "source": [
        "The below function calculates the prediction for the features using the model and measures the accuracy, precision, and recall of the prediction using the scikit-learn functions accuracy_score, precision_score, and recall_score. The function also measures the latency of the prediction by finding the difference between the start and end time. The results of these calculations are then printed to the console using string formatting."
      ],
      "metadata": {
        "id": "eMSbxYRKT5nN"
      }
    },
    {
      "cell_type": "code",
      "execution_count": 21,
      "metadata": {
        "id": "fievWvbsM_se"
      },
      "outputs": [],
      "source": [
        "def evaluate_model(name, model, features, labels):\n",
        "    start = time()\n",
        "    pred = model.predict(features)\n",
        "    end = time()\n",
        "    accuracy = round(accuracy_score(labels, pred), 3)\n",
        "    precision = round(precision_score(labels, pred, average='macro'), 3)\n",
        "    recall = round(recall_score(labels, pred, average='macro'), 3)\n",
        "    print('{} -- Accuracy: {} / Precision: {} / Recall: {} / Latency: {}ms'.format(name,\n",
        "                                                                                   accuracy,\n",
        "                                                                                   precision,\n",
        "                                                                                   recall,\n",
        "                                                                                   round((end - start)*1000, 1)))"
      ]
    },
    {
      "cell_type": "code",
      "execution_count": 22,
      "metadata": {
        "id": "8SKtuL-XM_se"
      },
      "outputs": [],
      "source": [
        "LR = cv.best_estimator_\n",
        "RF = CV5.best_estimator_"
      ]
    },
    {
      "cell_type": "markdown",
      "source": [
        "These two lines of code are setting the Logistic Regression and Random Forest models to their respective best estimators as determined by their grid search cross-validation. The best estimators are the models with the best hyperparameter settings that achieved the highest cross-validation accuracy."
      ],
      "metadata": {
        "id": "vLbjI0sQUHl_"
      }
    },
    {
      "cell_type": "code",
      "execution_count": 23,
      "metadata": {
        "colab": {
          "base_uri": "https://localhost:8080/"
        },
        "id": "jin5CQVEM_sf",
        "outputId": "b5152b4d-770b-4aa3-8578-0658f953fe96"
      },
      "outputs": [
        {
          "output_type": "execute_result",
          "data": {
            "text/plain": [
              "{'LR': LogisticRegression(C=0.1),\n",
              " 'RF': RandomForestClassifier(max_depth=4, n_estimators=250)}"
            ]
          },
          "metadata": {},
          "execution_count": 23
        }
      ],
      "source": [
        "models={'LR':LR,'RF':RF}\n",
        "models"
      ]
    },
    {
      "cell_type": "code",
      "execution_count": 24,
      "metadata": {
        "colab": {
          "base_uri": "https://localhost:8080/"
        },
        "id": "YiB2mLGVM_sf",
        "outputId": "72a00a70-f978-4e52-90d8-a19417acef81"
      },
      "outputs": [
        {
          "output_type": "stream",
          "name": "stdout",
          "text": [
            "LR -- Accuracy: 0.766 / Precision: 0.664 / Recall: 0.542 / Latency: 2.9ms\n",
            "RF -- Accuracy: 0.823 / Precision: 0.781 / Recall: 0.685 / Latency: 54.0ms\n"
          ]
        }
      ],
      "source": [
        "import joblib\n",
        "import pandas as pd\n",
        "from sklearn.metrics import accuracy_score, precision_score, recall_score\n",
        "from time import time\n",
        "for mdl in models:\n",
        "     evaluate_model(mdl, models[mdl], x_train, y_train)"
      ]
    },
    {
      "cell_type": "markdown",
      "source": [
        "The evaluate_model function calculates accuracy, precision, recall, and latency (time taken to make predictions) for the given model. The results are then printed in a readable format."
      ],
      "metadata": {
        "id": "AcyVs0A1Uasp"
      }
    },
    {
      "cell_type": "markdown",
      "metadata": {
        "id": "4tatBG_OM_sf"
      },
      "source": [
        "# References\n",
        "\n",
        "- Kaggle. (2020, November 9). Working With TPOT. Kaggle. Retrieved April 21, 2022, from https://www.kaggle.com/code/tug004/predicting-blood-transfusion-with-tpot-0-78-auc/data \n",
        "\n",
        "- Adalberth G, Byström S, Kolstad K, Mallmin H, Milbrink J (1998) Postoperative drainage of knee arthroplasty is not necessary: a randomized study of 90 patients. Acta Orthop Scand 69:475–478\n",
        "\n",
        "- Bell TH, Berta D, Ralley F, Macdonald SJ, McCalden RW, Bourne RB et al (2009) Factors affecting perioperative blood loss and transfusion rates in primary total joint arthroplasty: a prospective analysis of 1642 patients. Can J Surg 52:295–301\n",
        "\n",
        "- Library documentation: https://scikit-learn.org/stable/documentation.html\n",
        "API reference: https://scikit-learn.org/stable/modules/classes.html\n",
        "\n",
        "Logistic Regression:\n",
        "\n",
        "- scikit-learn documentation: https://scikit-learn.org/stable/modules/generated/sklearn.linear_model.LogisticRegression.html\n",
        "\n",
        "- Introduction to Logistic Regression: https://towardsdatascience.com/logistic-regression-detailed-overview-46c4da4303bc\n",
        "\n",
        "Random Forest:\n",
        "- scikit-learn documentation: https://scikit-learn.org/stable/modules/generated/sklearn.ensemble.RandomForestClassifier.html\n",
        "\n",
        "- Introduction to Random Forest: https://towardsdatascience.com/understanding-random-forest-58381e0602d2\n",
        "\n",
        "GridSearchCV:\n",
        "- scikit-learn documentation: https://scikit-learn.org/stable/modules/generated/sklearn.model_selection.GridSearchCV.html\n",
        "\n",
        "Model evaluation metrics (accuracy, precision, recall):\n",
        "- scikit-learn documentation: https://scikit-learn.org/stable/modules/classes.html#module-sklearn.metrics\n",
        "\n",
        "- Overview of evaluation metrics: https://towardsdatascience.com/accuracy-precision-recall-or-f1-331fb37c5cb9"
      ]
    }
  ],
  "metadata": {
    "kernelspec": {
      "display_name": "Python 3 (ipykernel)",
      "language": "python",
      "name": "python3"
    },
    "language_info": {
      "codemirror_mode": {
        "name": "ipython",
        "version": 3
      },
      "file_extension": ".py",
      "mimetype": "text/x-python",
      "name": "python",
      "nbconvert_exporter": "python",
      "pygments_lexer": "ipython3",
      "version": "3.9.12"
    },
    "vscode": {
      "interpreter": {
        "hash": "970a2a4939579a4c22872227820a264ec023ee5692739211cbaca24386397975"
      }
    },
    "colab": {
      "provenance": []
    }
  },
  "nbformat": 4,
  "nbformat_minor": 0
}